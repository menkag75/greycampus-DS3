{
 "cells": [
  {
   "cell_type": "code",
   "execution_count": null,
   "metadata": {},
   "outputs": [],
   "source": [
    "#1. Import the Numpy package under the name np\n",
    "import numpy as np"
   ]
  },
  {
   "cell_type": "code",
   "execution_count": 64,
   "metadata": {},
   "outputs": [
    {
     "name": "stdout",
     "output_type": "stream",
     "text": [
      "[0 0 0 0 0 0 0 0 0 0]\n"
     ]
    }
   ],
   "source": [
    "#2. Create a null vector of size 10\n",
    "x= np.zeros(10 , dtype=int)\n",
    "print(x)"
   ]
  },
  {
   "cell_type": "code",
   "execution_count": 65,
   "metadata": {},
   "outputs": [
    {
     "name": "stdout",
     "output_type": "stream",
     "text": [
      "[0 0 0 0 1 0 0 0 0 0]\n"
     ]
    }
   ],
   "source": [
    "#3. Create a null vector of size 10 but the fifth value which is 1\n",
    "x[4]=1\n",
    "print(x)"
   ]
  },
  {
   "cell_type": "code",
   "execution_count": 16,
   "metadata": {},
   "outputs": [
    {
     "name": "stdout",
     "output_type": "stream",
     "text": [
      "[10 11 12 13 14 15 16 17 18 19 20 21 22 23 24 25 26 27 28 29 30 31 32 33\n",
      " 34 35 36 37 38 39 40 41 42 43 44 45 46 47 48]\n"
     ]
    }
   ],
   "source": [
    "#4. Create a vector with values ranging from 10 to 49\n",
    "b=np.arange(10,49)\n",
    "print(b)"
   ]
  },
  {
   "cell_type": "code",
   "execution_count": 66,
   "metadata": {},
   "outputs": [
    {
     "name": "stdout",
     "output_type": "stream",
     "text": [
      "This is the original vector : [ 1  2  3  4  5  6  7  8  9 10]\n",
      "This is the reverse vector: [10  9  8  7  6  5  4  3  2  1]\n"
     ]
    }
   ],
   "source": [
    "#5. Reverse a vector (the first element becomes last) - my original method by using zero vector\n",
    "a=np.arange(1,11)\n",
    "c=np.zeros(10 ,dtype=int)\n",
    "print(\"This is the original vector :\" , a)\n",
    "i=0\n",
    "j=9\n",
    "while (i < 11) and (j >= 0):\n",
    "    c[i] = a[j]\n",
    "    i+=1\n",
    "    j-=1\n",
    "else :\n",
    "     print(\"This is the reverse vector:\" , c)\n",
    "\n"
   ]
  },
  {
   "cell_type": "code",
   "execution_count": 39,
   "metadata": {},
   "outputs": [
    {
     "name": "stdout",
     "output_type": "stream",
     "text": [
      "This is the reverse vector using shortcut method: [10  9  8  7  6  5  4  3  2  1]\n"
     ]
    }
   ],
   "source": [
    "#found from web a shortcut method to reverse\n",
    "res = a[::-1]\n",
    "print(\"This is the reverse vector using shortcut method:\" ,res)"
   ]
  },
  {
   "cell_type": "code",
   "execution_count": 41,
   "metadata": {},
   "outputs": [
    {
     "name": "stdout",
     "output_type": "stream",
     "text": [
      "This is the reverse vector using flipud method : [10  9  8  7  6  5  4  3  2  1]\n"
     ]
    }
   ],
   "source": [
    "#found from web using flipud method to reverse\n",
    "res1=np.flipud(a)\n",
    "print(\"This is the reverse vector using flipud method :\" ,res1)"
   ]
  },
  {
   "cell_type": "code",
   "execution_count": null,
   "metadata": {},
   "outputs": [],
   "source": [
    "# 6. Create a 3x3 matrix with values ranging from 0 to 8\n",
    "matrix = np.arange(0,9).reshape(3,3)\n",
    "print(\"This is a 3X3 matrix with values ranging from 0-8 :\\n\", matrix)"
   ]
  },
  {
   "cell_type": "code",
   "execution_count": 20,
   "metadata": {},
   "outputs": [
    {
     "name": "stdout",
     "output_type": "stream",
     "text": [
      "Indice 0 has a non zero element\n",
      "Indice 1 has a non zero element\n",
      "Indice 4 has a non zero element\n"
     ]
    }
   ],
   "source": [
    "# 7. Find indices of non zero elements from [1,2,0,0,4,0] as per my logic\n",
    "my_array= np.array([1,2,0,0,4,0])\n",
    "len_array = len(my_array)\n",
    "# print(len_array)\n",
    "i=0\n",
    "while (i < (len_array)):\n",
    "    if(my_array[i] != 0):\n",
    "      print(\"Indice\", i , \"has a non zero element\")\n",
    "    i+=1\n"
   ]
  },
  {
   "cell_type": "code",
   "execution_count": 17,
   "metadata": {},
   "outputs": [
    {
     "name": "stdout",
     "output_type": "stream",
     "text": [
      "Original Array :  [1 2 0 0 4 0]\n",
      "Indices with non zero elements : [0 1 4]\n"
     ]
    }
   ],
   "source": [
    "# found this code on the web for finding non zero element indices\n",
    "result = np.where(my_array != 0)[0]\n",
    "print(\"Original Array : \", my_array)\n",
    "print(\"Indices with non zero elements :\" , result)"
   ]
  },
  {
   "cell_type": "code",
   "execution_count": 23,
   "metadata": {},
   "outputs": [
    {
     "name": "stdout",
     "output_type": "stream",
     "text": [
      "[[[0.65493038 0.36469021 0.50860251]\n",
      "  [0.64407983 0.71793763 0.77781951]\n",
      "  [0.20890844 0.06693729 0.41153697]]\n",
      "\n",
      " [[0.49854221 0.12171975 0.9011605 ]\n",
      "  [0.33624123 0.70456536 0.58140076]\n",
      "  [0.80486063 0.19102548 0.20319778]]\n",
      "\n",
      " [[0.24565737 0.74661284 0.62462638]\n",
      "  [0.91313238 0.80349028 0.01546664]\n",
      "  [0.83747745 0.64772782 0.94997225]]]\n"
     ]
    }
   ],
   "source": [
    "# 8. Create a 3x3x3 array with random values\n",
    "x=np.random.random((3,3,3))\n",
    "print(x)"
   ]
  },
  {
   "cell_type": "code",
   "execution_count": 33,
   "metadata": {},
   "outputs": [
    {
     "name": "stdout",
     "output_type": "stream",
     "text": [
      "Random vector of size 30:\n",
      " [0.38888782 0.71960015 0.83925502 0.38009134 0.97483924 0.5353642\n",
      " 0.12815124 0.03793292 0.55264375 0.98103559 0.08259764 0.50196338\n",
      " 0.88365256 0.34234386 0.10725851 0.8170361  0.70452653 0.32860682\n",
      " 0.0570116  0.28037798 0.19764442 0.18814379 0.53495939 0.88648587\n",
      " 0.8021132  0.03047882 0.71733037 0.91539396 0.18884442 0.80474168]\n",
      "\n",
      " The mean value of the random array is : 0.497\n"
     ]
    }
   ],
   "source": [
    "# 9. Create a random vector of size 30 and find the mean value\n",
    "y=np.random.random(30)\n",
    "print(\"Random vector of size 30:\\n\", y)\n",
    "array_mean = round(np.mean(y),3)\n",
    "print(\"\\n The mean value of the random array is :\", array_mean)"
   ]
  },
  {
   "cell_type": "code",
   "execution_count": 63,
   "metadata": {},
   "outputs": [
    {
     "name": "stdout",
     "output_type": "stream",
     "text": [
      "This is the 2D array created with elements value as 0 \n",
      " \n",
      " [[0 0 0 0 0]\n",
      " [0 0 0 0 0]\n",
      " [0 0 0 0 0]\n",
      " [0 0 0 0 0]\n",
      " [0 0 0 0 0]]\n",
      "\n",
      " This the 2d array with 1 on the border and 0 inside \n",
      " \n",
      " [[1 1 1 1 1]\n",
      " [1 0 0 0 1]\n",
      " [1 0 0 0 1]\n",
      " [1 0 0 0 1]\n",
      " [1 1 1 1 1]]\n"
     ]
    }
   ],
   "source": [
    "# 10. Create a 2d array with 1 on the border and 0 inside\n",
    "z=np.full((5,5),0)\n",
    "print(\"This is the 2D array created with elements value as 0 \\n \\n\", z)\n",
    "i=0\n",
    "j=0\n",
    "\n",
    "for i in range(5):\n",
    "   \n",
    "        for j in range(5):\n",
    "            if ((i==0) or (i==4) or (j==0) or (j==4)):\n",
    "                z[i,j] = 1\n",
    "                #print(\"updated\" , i ,j ,z[i,j])\n",
    "            j+=1\n",
    "        else :\n",
    "            i=+1\n",
    "\n",
    "print(\"\\n This the 2d array with 1 on the border and 0 inside \\n \\n\", z) \n"
   ]
  },
  {
   "cell_type": "code",
   "execution_count": 70,
   "metadata": {},
   "outputs": [
    {
     "name": "stdout",
     "output_type": "stream",
     "text": [
      "This is a 8x8 matrix created with elements value as 0 \n",
      " \n",
      " [[0 0 0 0 0 0 0 0]\n",
      " [0 0 0 0 0 0 0 0]\n",
      " [0 0 0 0 0 0 0 0]\n",
      " [0 0 0 0 0 0 0 0]\n",
      " [0 0 0 0 0 0 0 0]\n",
      " [0 0 0 0 0 0 0 0]\n",
      " [0 0 0 0 0 0 0 0]\n",
      " [0 0 0 0 0 0 0 0]]\n",
      "\n",
      " This the 2d array with 1 on the border and 0 inside \n",
      " \n",
      " [[1 0 1 0 1 0 1 0]\n",
      " [1 0 1 0 1 0 1 0]\n",
      " [1 0 1 0 1 0 1 0]\n",
      " [1 0 1 0 1 0 1 0]\n",
      " [1 0 1 0 1 0 1 0]\n",
      " [1 0 1 0 1 0 1 0]\n",
      " [1 0 1 0 1 0 1 0]\n",
      " [1 0 1 0 1 0 1 0]]\n"
     ]
    }
   ],
   "source": [
    "# 11. Create an 8x8 matrix and fill it with a checkerboard pattern\n",
    "\n",
    "z=np.full((8,8),0)\n",
    "print(\"This is a 8x8 matrix created with elements value as 0 \\n \\n\", z)\n",
    "i=0\n",
    "j=0\n",
    "\n",
    "for i in range(8):\n",
    "   \n",
    "        for j in range(8):\n",
    "            if () (j in (0,2,4,6)):\n",
    "                z[i,j] = 1\n",
    "                #print(\"updated\" , i ,j ,z[i,j])\n",
    "            j+=1\n",
    "        else :\n",
    "            i=+1\n",
    "            j=+1\n",
    "\n",
    "print(\"\\n This the 2d array with 1 on the border and 0 inside \\n \\n\", z) \n"
   ]
  },
  {
   "cell_type": "code",
   "execution_count": null,
   "metadata": {},
   "outputs": [],
   "source": []
  }
 ],
 "metadata": {
  "kernelspec": {
   "display_name": "Python 3",
   "language": "python",
   "name": "python3"
  },
  "language_info": {
   "codemirror_mode": {
    "name": "ipython",
    "version": 3
   },
   "file_extension": ".py",
   "mimetype": "text/x-python",
   "name": "python",
   "nbconvert_exporter": "python",
   "pygments_lexer": "ipython3",
   "version": "3.8.5"
  }
 },
 "nbformat": 4,
 "nbformat_minor": 4
}
