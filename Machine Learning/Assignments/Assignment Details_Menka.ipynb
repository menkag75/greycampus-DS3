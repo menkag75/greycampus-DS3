{
 "cells": [
  {
   "cell_type": "markdown",
   "metadata": {
    "_uuid": "89ef93231815456f4e0bc5dcc00b094aee800993"
   },
   "source": [
    "**In this task you should use Pandas to answer a few questions about the Adult Dataset(provided)."
   ]
  },
  {
   "cell_type": "markdown",
   "metadata": {
    "_uuid": "c322301ac858c748f8f80e63cf6f734fc70dde30"
   },
   "source": [
    "Unique values of all features:\n",
    "- `age`: continuous.\n",
    "- `workclass`: Private, Self-emp-not-inc, Self-emp-inc, Federal-gov, Local-gov, State-gov, Without-pay, Never-worked.\n",
    "- `fnlwgt`: continuous.\n",
    "- `education`: Bachelors, Some-college, 11th, HS-grad, Prof-school, Assoc-acdm, Assoc-voc, 9th, 7th-8th, 12th, Masters, 1st-4th, 10th, Doctorate, 5th-6th, Preschool.\n",
    "- `education-num`: continuous.\n",
    "- `marital-status`: Married-civ-spouse, Divorced, Never-married, Separated, Widowed, Married-spouse-absent, Married-AF-spouse.\n",
    "- `occupation`: Tech-support, Craft-repair, Other-service, Sales, Exec-managerial, Prof-specialty, Handlers-cleaners, Machine-op-inspct, Adm-clerical, Farming-fishing, Transport-moving, Priv-house-serv, Protective-serv, Armed-Forces.\n",
    "- `relationship`: Wife, Own-child, Husband, Not-in-family, Other-relative, Unmarried.\n",
    "- `race`: White, Asian-Pac-Islander, Amer-Indian-Eskimo, Other, Black.\n",
    "- `sex`: Female, Male.\n",
    "- `capital-gain`: continuous.\n",
    "- `capital-loss`: continuous.\n",
    "- `hours-per-week`: continuous.\n",
    "- `native-country`: United-States, Cambodia, England, Puerto-Rico, Canada, Germany, Outlying-US(Guam-USVI-etc), India, Japan, Greece, South, China, Cuba, Iran, Honduras, Philippines, Italy, Poland, Jamaica, Vietnam, Mexico, Portugal, Ireland, France, Dominican-Republic, Laos, Ecuador, Taiwan, Haiti, Columbia, Hungary, Guatemala, Nicaragua, Scotland, Thailand, Yugoslavia, El-Salvador, Trinadad&Tobago, Peru, Hong, Holand-Netherlands.   \n",
    "- `salary`: >50K,<=50K"
   ]
  },
  {
   "cell_type": "code",
   "execution_count": 2,
   "metadata": {
    "_uuid": "d3eb2411e23b7db11e4cbbb498a42752442a6f4c"
   },
   "outputs": [],
   "source": [
    "import pandas as pd"
   ]
  },
  {
   "cell_type": "code",
   "execution_count": 3,
   "metadata": {
    "_uuid": "c5119d1b8151029b4ff57735c4279b795ae492a2"
   },
   "outputs": [
    {
     "data": {
      "text/html": [
       "<div>\n",
       "<style scoped>\n",
       "    .dataframe tbody tr th:only-of-type {\n",
       "        vertical-align: middle;\n",
       "    }\n",
       "\n",
       "    .dataframe tbody tr th {\n",
       "        vertical-align: top;\n",
       "    }\n",
       "\n",
       "    .dataframe thead th {\n",
       "        text-align: right;\n",
       "    }\n",
       "</style>\n",
       "<table border=\"1\" class=\"dataframe\">\n",
       "  <thead>\n",
       "    <tr style=\"text-align: right;\">\n",
       "      <th></th>\n",
       "      <th>age</th>\n",
       "      <th>workclass</th>\n",
       "      <th>fnlwgt</th>\n",
       "      <th>education</th>\n",
       "      <th>education-num</th>\n",
       "      <th>marital-status</th>\n",
       "      <th>occupation</th>\n",
       "      <th>relationship</th>\n",
       "      <th>race</th>\n",
       "      <th>sex</th>\n",
       "      <th>capitalgain</th>\n",
       "      <th>capitalloss</th>\n",
       "      <th>hoursperweek</th>\n",
       "      <th>native-country</th>\n",
       "      <th>class</th>\n",
       "    </tr>\n",
       "  </thead>\n",
       "  <tbody>\n",
       "    <tr>\n",
       "      <th>0</th>\n",
       "      <td>2</td>\n",
       "      <td>State-gov</td>\n",
       "      <td>77516</td>\n",
       "      <td>Bachelors</td>\n",
       "      <td>13</td>\n",
       "      <td>Never-married</td>\n",
       "      <td>Adm-clerical</td>\n",
       "      <td>Not-in-family</td>\n",
       "      <td>White</td>\n",
       "      <td>Male</td>\n",
       "      <td>1</td>\n",
       "      <td>0</td>\n",
       "      <td>2</td>\n",
       "      <td>United-States</td>\n",
       "      <td>&lt;=50K</td>\n",
       "    </tr>\n",
       "    <tr>\n",
       "      <th>1</th>\n",
       "      <td>3</td>\n",
       "      <td>Self-emp-not-inc</td>\n",
       "      <td>83311</td>\n",
       "      <td>Bachelors</td>\n",
       "      <td>13</td>\n",
       "      <td>Married-civ-spouse</td>\n",
       "      <td>Exec-managerial</td>\n",
       "      <td>Husband</td>\n",
       "      <td>White</td>\n",
       "      <td>Male</td>\n",
       "      <td>0</td>\n",
       "      <td>0</td>\n",
       "      <td>0</td>\n",
       "      <td>United-States</td>\n",
       "      <td>&lt;=50K</td>\n",
       "    </tr>\n",
       "    <tr>\n",
       "      <th>2</th>\n",
       "      <td>2</td>\n",
       "      <td>Private</td>\n",
       "      <td>215646</td>\n",
       "      <td>HS-grad</td>\n",
       "      <td>9</td>\n",
       "      <td>Divorced</td>\n",
       "      <td>Handlers-cleaners</td>\n",
       "      <td>Not-in-family</td>\n",
       "      <td>White</td>\n",
       "      <td>Male</td>\n",
       "      <td>0</td>\n",
       "      <td>0</td>\n",
       "      <td>2</td>\n",
       "      <td>United-States</td>\n",
       "      <td>&lt;=50K</td>\n",
       "    </tr>\n",
       "    <tr>\n",
       "      <th>3</th>\n",
       "      <td>3</td>\n",
       "      <td>Private</td>\n",
       "      <td>234721</td>\n",
       "      <td>11th</td>\n",
       "      <td>7</td>\n",
       "      <td>Married-civ-spouse</td>\n",
       "      <td>Handlers-cleaners</td>\n",
       "      <td>Husband</td>\n",
       "      <td>Black</td>\n",
       "      <td>Male</td>\n",
       "      <td>0</td>\n",
       "      <td>0</td>\n",
       "      <td>2</td>\n",
       "      <td>United-States</td>\n",
       "      <td>&lt;=50K</td>\n",
       "    </tr>\n",
       "    <tr>\n",
       "      <th>4</th>\n",
       "      <td>1</td>\n",
       "      <td>Private</td>\n",
       "      <td>338409</td>\n",
       "      <td>Bachelors</td>\n",
       "      <td>13</td>\n",
       "      <td>Married-civ-spouse</td>\n",
       "      <td>Prof-specialty</td>\n",
       "      <td>Wife</td>\n",
       "      <td>Black</td>\n",
       "      <td>Female</td>\n",
       "      <td>0</td>\n",
       "      <td>0</td>\n",
       "      <td>2</td>\n",
       "      <td>Cuba</td>\n",
       "      <td>&lt;=50K</td>\n",
       "    </tr>\n",
       "  </tbody>\n",
       "</table>\n",
       "</div>"
      ],
      "text/plain": [
       "   age         workclass  fnlwgt  education  education-num  \\\n",
       "0    2         State-gov   77516  Bachelors             13   \n",
       "1    3  Self-emp-not-inc   83311  Bachelors             13   \n",
       "2    2           Private  215646    HS-grad              9   \n",
       "3    3           Private  234721       11th              7   \n",
       "4    1           Private  338409  Bachelors             13   \n",
       "\n",
       "       marital-status         occupation   relationship   race     sex  \\\n",
       "0       Never-married       Adm-clerical  Not-in-family  White    Male   \n",
       "1  Married-civ-spouse    Exec-managerial        Husband  White    Male   \n",
       "2            Divorced  Handlers-cleaners  Not-in-family  White    Male   \n",
       "3  Married-civ-spouse  Handlers-cleaners        Husband  Black    Male   \n",
       "4  Married-civ-spouse     Prof-specialty           Wife  Black  Female   \n",
       "\n",
       "   capitalgain  capitalloss  hoursperweek native-country  class  \n",
       "0            1            0             2  United-States  <=50K  \n",
       "1            0            0             0  United-States  <=50K  \n",
       "2            0            0             2  United-States  <=50K  \n",
       "3            0            0             2  United-States  <=50K  \n",
       "4            0            0             2           Cuba  <=50K  "
      ]
     },
     "execution_count": 3,
     "metadata": {},
     "output_type": "execute_result"
    }
   ],
   "source": [
    "data = pd.read_csv('C:\\\\Users\\\\asheesh\\\\Documents\\\\menka\\\\Data Scientist\\\\ML\\\\ASSISGNMENT\\\\week4_assignment\\\\Assignment_Details\\\\adult_csv.csv')\n",
    "data.head()"
   ]
  },
  {
   "cell_type": "markdown",
   "metadata": {
    "_uuid": "6b19853f936853d40971b56f4d298ab55ee78cac"
   },
   "source": [
    "**1. How many men and women (*sex* feature) are represented in this dataset?** "
   ]
  },
  {
   "cell_type": "code",
   "execution_count": 5,
   "metadata": {
    "_uuid": "d32cafcbe966dbdfa40c3017d16d6f8c96bfb3e2"
   },
   "outputs": [
    {
     "data": {
      "text/plain": [
       "Male      32650\n",
       "Female    16192\n",
       "Name: sex, dtype: int64"
      ]
     },
     "execution_count": 5,
     "metadata": {},
     "output_type": "execute_result"
    }
   ],
   "source": [
    "data['sex'].value_counts()"
   ]
  },
  {
   "cell_type": "markdown",
   "metadata": {
    "_uuid": "4748793234a5d325ea60d13331ecf93e29774523"
   },
   "source": [
    "**2. What is the average age (*age* feature) of women?**"
   ]
  },
  {
   "cell_type": "code",
   "execution_count": 38,
   "metadata": {
    "_uuid": "64f60d928855107d8980875656dcdf3587d91646"
   },
   "outputs": [
    {
     "name": "stdout",
     "output_type": "stream",
     "text": [
      "The average age  of women  is : 1.604\n"
     ]
    }
   ],
   "source": [
    "avg_age_women= data[data['sex'] == 'Female']['age'].mean()\n",
    "round(avg_age_women,3)\n",
    "print (\"The average age  of women  is :\" , round(avg_age_women,3))"
   ]
  },
  {
   "cell_type": "markdown",
   "metadata": {
    "_uuid": "80e87c421c348067e88769c64e554206c51727d1"
   },
   "source": [
    "**3. What is the percentage of German citizens (*native-country* feature)?**"
   ]
  },
  {
   "cell_type": "code",
   "execution_count": 37,
   "metadata": {
    "_uuid": "ca9807509692638bd945671ed7d8b4a5ad1f3626"
   },
   "outputs": [
    {
     "name": "stdout",
     "output_type": "stream",
     "text": [
      "The percentage of German citizens are : 0.429\n"
     ]
    }
   ],
   "source": [
    "german_percent= (data[data['native-country']=='Germany']['native-country'].count()) / (data['native-country'].count()) * 100\n",
    "print (\"The percentage of German citizens are :\" , round(german_percent,3))"
   ]
  },
  {
   "cell_type": "markdown",
   "metadata": {
    "_uuid": "be9911cf525df4fca2c1d14b8720bc8a82f462e7"
   },
   "source": [
    "**4-5. What are the mean and standard deviation of age for those who earn more than 50K per year (*salary* feature) and those who earn less than 50K per year? **"
   ]
  },
  {
   "cell_type": "code",
   "execution_count": 68,
   "metadata": {
    "_uuid": "97948f0115f949913d211627151b5605bcd204fd"
   },
   "outputs": [
    {
     "name": "stdout",
     "output_type": "stream",
     "text": [
      "For those who earn <=50K per year  mean of age is 1.59  and standard deviation is 1.322\n",
      "For those who earn > 50K per year  mean of age is 2.346  and standard deviation is 1.01\n"
     ]
    }
   ],
   "source": [
    "#  mean and standard deviation of age for those who earn less than 50K per year\n",
    "\n",
    "Describe_less_50K=  data[data['class'] == '<=50K']['age'].describe()\n",
    "mean_less_50K = round(Describe_less_50K[1],3)\n",
    "std_less_50K = round( Describe_less_50K[2],3)\n",
    "print ( \"For those who earn <=50K per year  mean of age is\" ,  mean_less_50K , \" and standard deviation is\" ,std_less_50K)\n",
    "\n",
    "#  mean and standard deviation of age for those who earn more than 50K per year\n",
    "\n",
    "Describe_more_50K=  data[data['class'] == '>50K']['age'].describe()\n",
    "mean_more_50K = round(Describe_more_50K[1],3)\n",
    "std_more_50K = round( Describe_more_50K[2],3)\n",
    "print ( \"For those who earn > 50K per year  mean of age is\" ,  mean_more_50K , \" and standard deviation is\" ,std_more_50K)\n"
   ]
  },
  {
   "cell_type": "markdown",
   "metadata": {
    "_uuid": "180c3fe6f8b250b877c1d86866067b80acabdb64"
   },
   "source": [
    "**6. Is it true that people who earn more than 50K have at least high school education? (*education – Bachelors, Prof-school, Assoc-acdm, Assoc-voc, Masters* or *Doctorate* feature)**"
   ]
  },
  {
   "cell_type": "code",
   "execution_count": 75,
   "metadata": {
    "_uuid": "58f38ebfa2b0e1418a6a1a680d0743697f9876a2"
   },
   "outputs": [
    {
     "name": "stdout",
     "output_type": "stream",
     "text": [
      "It is not true that people who earn more than 50K have at least high school education as there are many with lower education \n",
      " \n",
      "Bachelors       3313\n",
      "HS-grad         2503\n",
      "Some-college    2063\n",
      "Masters         1459\n",
      "Prof-school      617\n",
      "Assoc-voc        522\n",
      "Doctorate        431\n",
      "Assoc-acdm       413\n",
      "11th              92\n",
      "10th              87\n",
      "7th-8th           62\n",
      "12th              48\n",
      "9th               41\n",
      "5th-6th           27\n",
      "1st-4th            8\n",
      "Preschool          1\n",
      "Name: education, dtype: int64\n"
     ]
    }
   ],
   "source": [
    "diff_education_more_50k = data[data['class'] == '>50K']['education'].value_counts()\n",
    "\n",
    "print (\"It is not true that people who earn more than 50K have at least high school education as there are many with lower education \\n \")\n",
    "print(diff_education_more_50k)"
   ]
  },
  {
   "cell_type": "markdown",
   "metadata": {
    "_uuid": "87d6bc9ec1c230e66416ce94533ea250368009cc"
   },
   "source": [
    "**7. Display age statistics for each race (*race* feature) and each gender (*sex* feature). Use *groupby()* and *describe()*. Find the maximum age of men of *Amer-Indian-Eskimo* race.**"
   ]
  },
  {
   "cell_type": "code",
   "execution_count": 191,
   "metadata": {
    "_uuid": "a4567b72200b583f7f2ee1583405d636c12169db"
   },
   "outputs": [
    {
     "data": {
      "text/html": [
       "<div>\n",
       "<style scoped>\n",
       "    .dataframe tbody tr th:only-of-type {\n",
       "        vertical-align: middle;\n",
       "    }\n",
       "\n",
       "    .dataframe tbody tr th {\n",
       "        vertical-align: top;\n",
       "    }\n",
       "\n",
       "    .dataframe thead th {\n",
       "        text-align: right;\n",
       "    }\n",
       "</style>\n",
       "<table border=\"1\" class=\"dataframe\">\n",
       "  <thead>\n",
       "    <tr style=\"text-align: right;\">\n",
       "      <th></th>\n",
       "      <th></th>\n",
       "      <th>count</th>\n",
       "      <th>mean</th>\n",
       "      <th>std</th>\n",
       "      <th>min</th>\n",
       "      <th>25%</th>\n",
       "      <th>50%</th>\n",
       "      <th>75%</th>\n",
       "      <th>max</th>\n",
       "    </tr>\n",
       "    <tr>\n",
       "      <th>race</th>\n",
       "      <th>sex</th>\n",
       "      <th></th>\n",
       "      <th></th>\n",
       "      <th></th>\n",
       "      <th></th>\n",
       "      <th></th>\n",
       "      <th></th>\n",
       "      <th></th>\n",
       "      <th></th>\n",
       "    </tr>\n",
       "  </thead>\n",
       "  <tbody>\n",
       "    <tr>\n",
       "      <th rowspan=\"2\" valign=\"top\">Amer-Indian-Eskimo</th>\n",
       "      <th>Female</th>\n",
       "      <td>185.0</td>\n",
       "      <td>1.583784</td>\n",
       "      <td>1.274651</td>\n",
       "      <td>0.0</td>\n",
       "      <td>1.0</td>\n",
       "      <td>1.0</td>\n",
       "      <td>3.0</td>\n",
       "      <td>4.0</td>\n",
       "    </tr>\n",
       "    <tr>\n",
       "      <th>Male</th>\n",
       "      <td>285.0</td>\n",
       "      <td>1.603509</td>\n",
       "      <td>1.135528</td>\n",
       "      <td>0.0</td>\n",
       "      <td>1.0</td>\n",
       "      <td>1.0</td>\n",
       "      <td>2.0</td>\n",
       "      <td>4.0</td>\n",
       "    </tr>\n",
       "    <tr>\n",
       "      <th rowspan=\"2\" valign=\"top\">Asian-Pac-Islander</th>\n",
       "      <th>Female</th>\n",
       "      <td>517.0</td>\n",
       "      <td>1.481625</td>\n",
       "      <td>1.211281</td>\n",
       "      <td>0.0</td>\n",
       "      <td>0.0</td>\n",
       "      <td>1.0</td>\n",
       "      <td>2.0</td>\n",
       "      <td>4.0</td>\n",
       "    </tr>\n",
       "    <tr>\n",
       "      <th>Male</th>\n",
       "      <td>1002.0</td>\n",
       "      <td>1.782435</td>\n",
       "      <td>1.197137</td>\n",
       "      <td>0.0</td>\n",
       "      <td>1.0</td>\n",
       "      <td>2.0</td>\n",
       "      <td>3.0</td>\n",
       "      <td>4.0</td>\n",
       "    </tr>\n",
       "    <tr>\n",
       "      <th rowspan=\"2\" valign=\"top\">Black</th>\n",
       "      <th>Female</th>\n",
       "      <td>2308.0</td>\n",
       "      <td>1.712738</td>\n",
       "      <td>1.240228</td>\n",
       "      <td>0.0</td>\n",
       "      <td>1.0</td>\n",
       "      <td>2.0</td>\n",
       "      <td>3.0</td>\n",
       "      <td>4.0</td>\n",
       "    </tr>\n",
       "    <tr>\n",
       "      <th>Male</th>\n",
       "      <td>2377.0</td>\n",
       "      <td>1.711822</td>\n",
       "      <td>1.254554</td>\n",
       "      <td>0.0</td>\n",
       "      <td>1.0</td>\n",
       "      <td>2.0</td>\n",
       "      <td>3.0</td>\n",
       "      <td>4.0</td>\n",
       "    </tr>\n",
       "    <tr>\n",
       "      <th rowspan=\"2\" valign=\"top\">Other</th>\n",
       "      <th>Female</th>\n",
       "      <td>155.0</td>\n",
       "      <td>1.090323</td>\n",
       "      <td>1.107048</td>\n",
       "      <td>0.0</td>\n",
       "      <td>0.0</td>\n",
       "      <td>1.0</td>\n",
       "      <td>2.0</td>\n",
       "      <td>4.0</td>\n",
       "    </tr>\n",
       "    <tr>\n",
       "      <th>Male</th>\n",
       "      <td>251.0</td>\n",
       "      <td>1.454183</td>\n",
       "      <td>1.156241</td>\n",
       "      <td>0.0</td>\n",
       "      <td>1.0</td>\n",
       "      <td>1.0</td>\n",
       "      <td>2.0</td>\n",
       "      <td>4.0</td>\n",
       "    </tr>\n",
       "    <tr>\n",
       "      <th rowspan=\"2\" valign=\"top\">White</th>\n",
       "      <th>Female</th>\n",
       "      <td>13027.0</td>\n",
       "      <td>1.595839</td>\n",
       "      <td>1.352648</td>\n",
       "      <td>0.0</td>\n",
       "      <td>0.0</td>\n",
       "      <td>1.0</td>\n",
       "      <td>3.0</td>\n",
       "      <td>4.0</td>\n",
       "    </tr>\n",
       "    <tr>\n",
       "      <th>Male</th>\n",
       "      <td>28735.0</td>\n",
       "      <td>1.874230</td>\n",
       "      <td>1.273180</td>\n",
       "      <td>0.0</td>\n",
       "      <td>1.0</td>\n",
       "      <td>2.0</td>\n",
       "      <td>3.0</td>\n",
       "      <td>4.0</td>\n",
       "    </tr>\n",
       "  </tbody>\n",
       "</table>\n",
       "</div>"
      ],
      "text/plain": [
       "                             count      mean       std  min  25%  50%  75%  \\\n",
       "race               sex                                                       \n",
       "Amer-Indian-Eskimo Female    185.0  1.583784  1.274651  0.0  1.0  1.0  3.0   \n",
       "                   Male      285.0  1.603509  1.135528  0.0  1.0  1.0  2.0   \n",
       "Asian-Pac-Islander Female    517.0  1.481625  1.211281  0.0  0.0  1.0  2.0   \n",
       "                   Male     1002.0  1.782435  1.197137  0.0  1.0  2.0  3.0   \n",
       "Black              Female   2308.0  1.712738  1.240228  0.0  1.0  2.0  3.0   \n",
       "                   Male     2377.0  1.711822  1.254554  0.0  1.0  2.0  3.0   \n",
       "Other              Female    155.0  1.090323  1.107048  0.0  0.0  1.0  2.0   \n",
       "                   Male      251.0  1.454183  1.156241  0.0  1.0  1.0  2.0   \n",
       "White              Female  13027.0  1.595839  1.352648  0.0  0.0  1.0  3.0   \n",
       "                   Male    28735.0  1.874230  1.273180  0.0  1.0  2.0  3.0   \n",
       "\n",
       "                           max  \n",
       "race               sex          \n",
       "Amer-Indian-Eskimo Female  4.0  \n",
       "                   Male    4.0  \n",
       "Asian-Pac-Islander Female  4.0  \n",
       "                   Male    4.0  \n",
       "Black              Female  4.0  \n",
       "                   Male    4.0  \n",
       "Other              Female  4.0  \n",
       "                   Male    4.0  \n",
       "White              Female  4.0  \n",
       "                   Male    4.0  "
      ]
     },
     "execution_count": 191,
     "metadata": {},
     "output_type": "execute_result"
    }
   ],
   "source": [
    "data.groupby(['race' , 'sex'])['age'].describe()"
   ]
  },
  {
   "cell_type": "markdown",
   "metadata": {
    "_uuid": "19411d604b0d4337a4a048a2f0e898541f39ab76"
   },
   "source": [
    "**8. Among whom is the proportion of those who earn a lot (>50K) greater: married or single men (*marital-status* feature)? Consider as married those who have a *marital-status* starting with *Married* (Married-civ-spouse, Married-spouse-absent or Married-AF-spouse), the rest are considered bachelors.**"
   ]
  },
  {
   "cell_type": "code",
   "execution_count": 134,
   "metadata": {
    "_uuid": "5bb3a8524fcbd794707075ccf6aaf8dd0f30a3dd"
   },
   "outputs": [
    {
     "name": "stdout",
     "output_type": "stream",
     "text": [
      "Married and earning more than 50k :  10056\n",
      "Singles and earning more than 50k :  1631\n",
      "Married have a higher proportion than singles who earn more than 50K\n"
     ]
    }
   ],
   "source": [
    "married_earn_more_50k = data[(data['class'] == '>50K') & (data['marital-status'].str.contains(\"Married\"))]['marital-status'].count()\n",
    "\n",
    "single_earn_more_50k = data[(data['class'] == '>50K') & (~data['marital-status'].str.contains(\"Married\"))]['marital-status'].count()\n",
    "\n",
    "print (\"Married and earning more than 50k : \" ,married_earn_more_50k  )\n",
    "print (\"Singles and earning more than 50k : \" ,single_earn_more_50k  )\n",
    "\n",
    "if (married_earn_more_50k > single_earn_more_50k):\n",
    "    print (\"Married have a higher proportion than singles who earn more than 50K\")\n",
    "else:\n",
    "    print (\"singles have a higher proportion than Married who earn more than 50K\")\n",
    "    "
   ]
  },
  {
   "cell_type": "markdown",
   "metadata": {
    "_uuid": "34f2076e7d331b95a23b990372809b709d2c8183"
   },
   "source": [
    "**9. What is the maximum number of hours a person works per week (*hours-per-week* feature)? How many people work such a number of hours, and what is the percentage of those who earn a lot (>50K) among them?**"
   ]
  },
  {
   "cell_type": "code",
   "execution_count": 166,
   "metadata": {
    "_uuid": "3571468172fc4bcf34e10b3d6ab358d4e41f7ef4"
   },
   "outputs": [
    {
     "name": "stdout",
     "output_type": "stream",
     "text": [
      "Maximum number of hours a person works per week is :  4\n",
      "Total number of people who work 4 hours per week are :  1676\n",
      "Percentage of people who earn more than 50K and work 4 hours a week is 35.7399 %\n"
     ]
    }
   ],
   "source": [
    "print(\"Maximum number of hours a person works per week is : \", data['hoursperweek'].max())\n",
    "\n",
    "ppl_max_hour = data[data['hoursperweek'] == 4]\n",
    "print(\"Total number of people who work 4 hours per week are : \",ppl_max_hour['hoursperweek'].count())\n",
    "\n",
    "percent_more_50K = (ppl_max_hour[ppl_max_hour['class'] == '>50K']['hoursperweek'].count() / ppl_max_hour['hoursperweek'].count())*100\n",
    "print(\"Percentage of people who earn more than 50K and work 4 hours a week is\" , round (percent_more_50K , 4) , \"%\" )\n"
   ]
  },
  {
   "cell_type": "markdown",
   "metadata": {
    "_uuid": "d539d4d137fac1c5ea25bc516188eb657d67e9b4"
   },
   "source": [
    "**10. Count the average time of work (*hours-per-week*) for those who earn a little and a lot (*salary*) for each country (*native-country*). What will these be for Japan?**"
   ]
  },
  {
   "cell_type": "code",
   "execution_count": 189,
   "metadata": {
    "_uuid": "75a93411f1e3b519afcc27c026aaa0c67eb526e9",
    "scrolled": true
   },
   "outputs": [
    {
     "name": "stdout",
     "output_type": "stream",
     "text": [
      " Count of the average time of work for each country \n",
      " native-country  class\n",
      "Cambodia        <=50K       19\n",
      "                >50K         9\n",
      "Canada          <=50K      119\n",
      "                >50K        63\n",
      "China           <=50K       86\n",
      "                         ...  \n",
      "United-States   >50K     10694\n",
      "Vietnam         <=50K       79\n",
      "                >50K         7\n",
      "Yugoslavia      <=50K       15\n",
      "                >50K         8\n",
      "Name: hoursperweek, Length: 81, dtype: int64\n",
      " \n",
      " \n",
      "==================================\n",
      " \n",
      " \n",
      "Count of the average time of work for Japan \n",
      " native-country  class\n",
      "Japan           <=50K    60\n",
      "                >50K     32\n",
      "Name: hoursperweek, dtype: int64\n"
     ]
    }
   ],
   "source": [
    "print (\" Count of the average time of work for each country \\n\" , data.groupby(['native-country', 'class'])['hoursperweek'].count())\n",
    "print (\" \\n \\n==================================\\n \\n \")\n",
    "print (\"Count of the average time of work for Japan \\n\" , data[data['native-country'] == 'Japan'].groupby(['native-country', 'class'])['hoursperweek'].count())"
   ]
  },
  {
   "cell_type": "code",
   "execution_count": 201,
   "metadata": {},
   "outputs": [
    {
     "name": "stdout",
     "output_type": "stream",
     "text": [
      " Average time of work for each country \n",
      " native-country  class\n",
      "Cambodia        <=50K    2.052632\n",
      "                >50K     2.222222\n",
      "Canada          <=50K    1.739496\n",
      "                >50K     2.396825\n",
      "China           <=50K    1.674419\n",
      "                           ...   \n",
      "United-States   >50K     2.334113\n",
      "Vietnam         <=50K    1.772152\n",
      "                >50K     2.000000\n",
      "Yugoslavia      <=50K    1.866667\n",
      "                >50K     2.250000\n",
      "Name: hoursperweek, Length: 81, dtype: float64\n",
      " \n",
      " \n",
      "==================================\n",
      " \n",
      " \n",
      "Average time of work for Japan \n",
      " native-country  class\n",
      "Japan           <=50K    1.9000\n",
      "                >50K     2.4375\n",
      "Name: hoursperweek, dtype: float64\n"
     ]
    }
   ],
   "source": [
    "print (\" Average time of work for each country \\n\" , data.groupby(['native-country', 'class'])['hoursperweek'].mean())\n",
    "print (\" \\n \\n==================================\\n \\n \")\n",
    "print (\"Average time of work for Japan \\n\" , data[data['native-country'] == 'Japan'].groupby(['native-country', 'class'])['hoursperweek'].mean())"
   ]
  },
  {
   "cell_type": "code",
   "execution_count": null,
   "metadata": {},
   "outputs": [],
   "source": []
  }
 ],
 "metadata": {
  "anaconda-cloud": {},
  "kernelspec": {
   "display_name": "Python 3",
   "language": "python",
   "name": "python3"
  },
  "language_info": {
   "codemirror_mode": {
    "name": "ipython",
    "version": 3
   },
   "file_extension": ".py",
   "mimetype": "text/x-python",
   "name": "python",
   "nbconvert_exporter": "python",
   "pygments_lexer": "ipython3",
   "version": "3.8.5"
  }
 },
 "nbformat": 4,
 "nbformat_minor": 1
}
